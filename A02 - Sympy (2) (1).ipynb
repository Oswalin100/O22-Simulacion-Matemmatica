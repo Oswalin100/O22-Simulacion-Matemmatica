{
 "cells": [
  {
   "cell_type": "markdown",
   "metadata": {},
   "source": [
    "# Ejercicios de optimización escalar"
   ]
  },
  {
   "cell_type": "markdown",
   "metadata": {},
   "source": [
    "**Para la siguientes funciones encuentre los puntos críticos, grafique y diga si éste se trata de un máximo o mínimo, local o global.**"
   ]
  },
  {
   "cell_type": "markdown",
   "metadata": {},
   "source": [
    "$f(x)=1260+117x-9x^2$"
   ]
  },
  {
   "cell_type": "code",
   "execution_count": 96,
   "metadata": {},
   "outputs": [
    {
     "data": {
      "text/plain": [
       "[13/18]"
      ]
     },
     "execution_count": 96,
     "metadata": {},
     "output_type": "execute_result"
    }
   ],
   "source": [
    " import sympy as sp\n",
    "import matplotlib.pyplot as plt\n",
    "%matplotlib inline\n",
    "\n",
    "sp.var(\"x\")\n",
    "\n",
    "def f(x) :\n",
    "    return ((1260)+(117*x)-(9*x)**2)\n",
    "df=sp.diff(f(x), x)\n",
    "ddf=sp.diff(df, x)\n",
    "\n",
    "pc=sp.solve(df, x)\n",
    "pc"
   ]
  },
  {
   "cell_type": "code",
   "execution_count": 97,
   "metadata": {},
   "outputs": [
    {
     "name": "stdout",
     "output_type": "stream",
     "text": [
      "El punto crítico en x=13/18es un máximo\n"
     ]
    }
   ],
   "source": [
    "for i in pc:\n",
    "    valor_csd=ddf.subs(x, i)\n",
    "    if valor_csd > 0:\n",
    "        print(\"El punto critico en x=\"+str(i)+\"es un minimo\")\n",
    "    elif valor_csd < 0:\n",
    "        print(\"El punto crítico en x=\"+str(i)+\"es un máximo\")\n",
    "    else:\n",
    "        print(\"No se sabe\")"
   ]
  },
  {
   "cell_type": "code",
   "execution_count": 100,
   "metadata": {},
   "outputs": [
    {
     "data": {
      "text/plain": [
       "[<matplotlib.lines.Line2D at 0x2059a2ade20>]"
      ]
     },
     "execution_count": 100,
     "metadata": {},
     "output_type": "execute_result"
    },
    {
     "data": {
      "image/png": "[encoded data removed]",
      "text/plain": [
       "<Figure size 432x288 with 1 Axes>"
      ]
     },
     "metadata": {
      "needs_background": "light"
     },
     "output_type": "display_data"
    }
   ],
   "source": [
    "import numpy as np\n",
    "plt.figure()\n",
    "xn=np.linspace(start=-4,\n",
    "              stop=4,\n",
    "              num=100)\n",
    "yn=f(xn) #Función evaluada con el vector (uno a uno)\n",
    "plt.plot(xn, yn, \"c\")\n",
    "plt.grid()\n",
    "plt.plot(.72,    #x\n",
    "        f(.72), #y\n",
    "        \"*r\",  #tipo de trazo (estrella roja)\n",
    "        ms=10) #mark size"
   ]
  },
  {
   "cell_type": "code",
   "execution_count": null,
   "metadata": {},
   "outputs": [],
   "source": []
  },
  {
   "cell_type": "markdown",
   "metadata": {},
   "source": [
    "$f(x)=5+x+\\frac{4}{x}$, para $x>0$"
   ]
  },
  {
   "cell_type": "code",
   "execution_count": 104,
   "metadata": {},
   "outputs": [
    {
     "data": {
      "text/plain": [
       "[-2, 2]"
      ]
     },
     "execution_count": 104,
     "metadata": {},
     "output_type": "execute_result"
    }
   ],
   "source": [
    " import sympy as sp\n",
    "import matplotlib.pyplot as plt\n",
    "%matplotlib inline\n",
    "\n",
    "sp.var(\"x\")\n",
    "\n",
    "def f(x) :\n",
    "    return ((5)+(x)+(4/x))\n",
    "df=sp.diff(f(x), x)\n",
    "ddf=sp.diff(df, x)\n",
    "\n",
    "pc=sp.solve(df, x)\n",
    "pc"
   ]
  },
  {
   "cell_type": "code",
   "execution_count": 109,
   "metadata": {},
   "outputs": [
    {
     "data": {
      "text/plain": [
       "[<matplotlib.lines.Line2D at 0x2059a1e6fa0>]"
      ]
     },
     "execution_count": 109,
     "metadata": {},
     "output_type": "execute_result"
    },
    {
     "data": {
      "image/png": "[encoded data removed]",
      "text/plain": [
       "<Figure size 432x288 with 1 Axes>"
      ]
     },
     "metadata": {
      "needs_background": "light"
     },
     "output_type": "display_data"
    }
   ],
   "source": [
    "import numpy as np\n",
    "plt.figure()\n",
    "xn=np.linspace(start=-4,\n",
    "              stop=4,\n",
    "              num=100)\n",
    "yn=f(xn) #Función evaluada con el vector (uno a uno)\n",
    "plt.plot(xn, yn, \"c\")\n",
    "plt.grid()\n",
    "plt.plot(2,    #x\n",
    "        f(2), #y\n",
    "        \"*k\",  #tipo de trazo (estrella roja)\n",
    "        ms=10) #mark size"
   ]
  },
  {
   "cell_type": "code",
   "execution_count": 59,
   "metadata": {},
   "outputs": [
    {
     "name": "stdout",
     "output_type": "stream",
     "text": [
      "El punto critico en x=2es un minimo\n"
     ]
    }
   ],
   "source": [
    "for i in pc:\n",
    "    valor_csd=ddf.subs(x, i)\n",
    "    if valor_csd > 0:\n",
    "        print(\"El punto critico en x=\"+str(i)+\"es un minimo\")\n",
    "    elif valor_csd > 0:\n",
    "        print(\"El punto crítico en x=\"+str(i)+\"es un máximo\")\n",
    "    "
   ]
  },
  {
   "cell_type": "code",
   "execution_count": null,
   "metadata": {},
   "outputs": [],
   "source": []
  },
  {
   "cell_type": "markdown",
   "metadata": {},
   "source": [
    "$f(x)=6-2x+\\sqrt{18-2x^2}$, para $-3\\leq x\\leq 3$"
   ]
  },
  {
   "cell_type": "code",
   "execution_count": 93,
   "metadata": {},
   "outputs": [
    {
     "name": "stdout",
     "output_type": "stream",
     "text": [
      "El punto crítico esta en (-2.449,13.348) y es máximo global\n"
     ]
    },
    {
     "data": {
      "image/png": "[encoded data removed]",
      "text/plain": [
       "<Figure size 432x288 with 1 Axes>"
      ]
     },
     "metadata": {
      "needs_background": "light"
     },
     "output_type": "display_data"
    }
   ],
   "source": [
    "import matplotlib.pyplot as plt\n",
    "import numpy as np\n",
    "import sympy as sp\n",
    "\n",
    "def fun(x):\n",
    "    return 6-(2*x)+((18-(2*(x*x)))**(1/2))\n",
    "\n",
    "sp.var('x')\n",
    "dif=sp.diff(fun(x),x)\n",
    "pc=sp.solve(dif,x)\n",
    "\n",
    "xn=np.linspace(-3,3,200)\n",
    "yn=fun(xn)\n",
    "plt.figure()\n",
    "plt.plot(xn,yn,'c')\n",
    "plt.grid()\n",
    "\n",
    "for i in pc:\n",
    "    if i>=-3 and i<=3:\n",
    "        pc2=round(i,3)\n",
    "        y=round(fun(pc2),3)\n",
    "        plt.plot(pc2,y,'*m',ms=10)\n",
    "\n",
    "        ddf=sp.diff(dif,x)\n",
    "        muestra=ddf.subs(x,pc2)\n",
    "\n",
    "        if muestra==0:\n",
    "            print(f'El punto crítico esta en ({pc2},{y}) y no es maximo o mínimo')\n",
    "        elif muestra>0:\n",
    "            if (y<fun(pc2-0.01)) and (y<fun(pc2+0.01)) and (y<fun(pc2+5)):\n",
    "                print(f'El punto crítico esta en ({pc2},{y}) y es mínimo global')\n",
    "            else:\n",
    "                print(f'El punto crítico esta en ({pc2},{y}) y es mínimo local')\n",
    "        elif muestra<0:\n",
    "            if (y>fun(pc2-0.5)) and (y>fun(pc2+0.5)) and (y>fun(pc2+5)):\n",
    "                print(f'El punto crítico esta en ({pc2},{y}) y es máximo global')\n",
    "            else:\n",
    "                print(f'El punto crítico esta en ({pc2},{y}) y es máximo local')"
   ]
  },
  {
   "cell_type": "code",
   "execution_count": null,
   "metadata": {},
   "outputs": [],
   "source": []
  },
  {
   "cell_type": "code",
   "execution_count": null,
   "metadata": {},
   "outputs": [],
   "source": []
  },
  {
   "cell_type": "code",
   "execution_count": null,
   "metadata": {},
   "outputs": [],
   "source": []
  },
  {
   "cell_type": "markdown",
   "metadata": {},
   "source": [
    "$f(x)=\\frac{1}{4}x^4+\\frac{1}{3}x^3-x^2$ en el intervalo $[-3,1.7]$"
   ]
  },
  {
   "cell_type": "code",
   "execution_count": 91,
   "metadata": {},
   "outputs": [
    {
     "name": "stdout",
     "output_type": "stream",
     "text": [
      "El punto crítico esta en (-2,-2.667) y es mínimo global\n",
      "El punto crítico esta en (0,0.0) y es máximo local\n",
      "El punto crítico esta en (1,-0.417) y es mínimo local\n"
     ]
    },
    {
     "data": {
      "image/png": "[encoded data removed]",
      "text/plain": [
       "<Figure size 432x288 with 1 Axes>"
      ]
     },
     "metadata": {
      "needs_background": "light"
     },
     "output_type": "display_data"
    }
   ],
   "source": [
    "import matplotlib.pyplot as plt\n",
    "import numpy as np\n",
    "import sympy as sp\n",
    "\n",
    "def fun(x):\n",
    "    return (1/4*(x**4))+(1/3*(x**3))-(x**2)\n",
    "\n",
    "sp.var('x')\n",
    "dif=sp.diff(fun(x),x)\n",
    "pc=sp.solve(dif,x)\n",
    "\n",
    "xn=np.linspace(-3,1.7,150)\n",
    "yn=fun(xn)\n",
    "plt.figure()\n",
    "plt.plot(xn,yn,'c')\n",
    "plt.grid()\n",
    "\n",
    "for i in pc:\n",
    "    if i>=-3 and i<=1.7:\n",
    "        pc2=int(i)\n",
    "        y=round(fun(pc2),3)\n",
    "        plt.plot(pc2,y,'*k',ms=10)\n",
    "\n",
    "        ddf=sp.diff(dif,x)\n",
    "        muestra=ddf.subs(x,pc2)\n",
    "\n",
    "        if muestra==0:\n",
    "            print(f'El punto crítico se encuentra en ({pc2},{y}) y no es maximo o minimo')\n",
    "        elif muestra>0:\n",
    "            if (y<fun(pc2-2)) and (y<fun(pc2+2)) and (y<fun(pc2+100)) and (y<fun(pc2-100)):\n",
    "                print(f'El punto crítico esta en ({pc2},{y}) y es mínimo global')\n",
    "            else:\n",
    "                print(f'El punto crítico esta en ({pc2},{y}) y es mínimo local')\n",
    "        elif muestra<0:\n",
    "            if (y>fun(pc2-2)) and (y>fun(pc2+2)) and (y>fun(pc2+100)) and (y>fun(pc2-100)):\n",
    "                print(f'El punto crítico esta en ({pc2},{y}) y es máximo global')\n",
    "            else:\n",
    "                print(f'El punto crítico esta en ({pc2},{y}) y es máximo local')"
   ]
  },
  {
   "cell_type": "code",
   "execution_count": null,
   "metadata": {},
   "outputs": [],
   "source": []
  },
  {
   "cell_type": "code",
   "execution_count": null,
   "metadata": {},
   "outputs": [],
   "source": []
  },
  {
   "cell_type": "code",
   "execution_count": null,
   "metadata": {},
   "outputs": [],
   "source": []
  },
  {
   "cell_type": "markdown",
   "metadata": {},
   "source": [
    "---\n",
    "**Resuelva los siguientes problemas usando la librería `SymPy`. Use celdas en `Markdown` para explicar su procedimiento.**"
   ]
  },
  {
   "cell_type": "markdown",
   "metadata": {},
   "source": [
    "El perímetro de un triángulo isósceles es de $10 cm$. ¿Cuánto deben medir sus lados para que el volumen del cuerpo generado por la rotación del triángulo en torno a su base sea el mayor posible? (Volumen de un cono $= \\frac{1}{3}\\pi r^2 h$, donde $r$ es el radio de la base y $h$ la altura del cono)."
   ]
  },
  {
   "cell_type": "code",
   "execution_count": null,
   "metadata": {},
   "outputs": [],
   "source": []
  },
  {
   "cell_type": "code",
   "execution_count": null,
   "metadata": {},
   "outputs": [],
   "source": []
  },
  {
   "cell_type": "code",
   "execution_count": null,
   "metadata": {},
   "outputs": [],
   "source": []
  },
  {
   "cell_type": "code",
   "execution_count": null,
   "metadata": {},
   "outputs": [],
   "source": []
  },
  {
   "cell_type": "code",
   "execution_count": null,
   "metadata": {},
   "outputs": [],
   "source": []
  },
  {
   "cell_type": "markdown",
   "metadata": {},
   "source": [
    "Disponemos de una barra de aluminio de 6 metros para construir una portería de fútbol. Si queremos que el área de la portería sea máxima, ¿cuánto deben medir los postes y el travesaño?"
   ]
  },
  {
   "cell_type": "markdown",
   "metadata": {},
   "source": [
    "Si tomamos a \"x\" como el travesaño y \"y\" como los postes entonces nuestra ecuación nos queda de la siguiente manera :\n",
    "$2y+x=6$"
   ]
  },
  {
   "cell_type": "markdown",
   "metadata": {},
   "source": [
    "Ahora si despejamos nuestra variable dependiente \"y\" queda como: $y=(6-x)/2$"
   ]
  },
  {
   "cell_type": "markdown",
   "metadata": {},
   "source": [
    "Como el área del rectángulo es base por la altura en este caso \"x\" por \"y\" tenemos: $3x-x^2/2$"
   ]
  },
  {
   "cell_type": "markdown",
   "metadata": {},
   "source": [
    "Encontramos su punto crítico derivando la función y resolviendo igualandola a 0"
   ]
  },
  {
   "cell_type": "code",
   "execution_count": 6,
   "metadata": {},
   "outputs": [
    {
     "data": {
      "text/plain": [
       "[3]"
      ]
     },
     "execution_count": 6,
     "metadata": {},
     "output_type": "execute_result"
    }
   ],
   "source": [
    " import sympy as sp\n",
    "import matplotlib.pyplot as plt\n",
    "%matplotlib inline\n",
    "\n",
    "sp.var(\"x\")\n",
    "def f(x) :\n",
    "    return ((3*x)-((x**2)/2))\n",
    "df=sp.diff(f(x), x)\n",
    "ddf=sp.diff(df, x)\n",
    "\n",
    "pc=sp.solve(df, x)\n",
    "pc"
   ]
  },
  {
   "cell_type": "markdown",
   "metadata": {},
   "source": [
    "Este punto en $x=3$ sería un máximo"
   ]
  },
  {
   "cell_type": "markdown",
   "metadata": {},
   "source": [
    "Con este dato ahora podemos determinar la longitud de los postes: $y=(6-x)/2=3/2$"
   ]
  },
  {
   "cell_type": "markdown",
   "metadata": {},
   "source": [
    "Entonces si cada poste medirá $3/2$ el travesaño debe medir lo que resta que serían 3 metros"
   ]
  },
  {
   "cell_type": "code",
   "execution_count": 10,
   "metadata": {},
   "outputs": [
    {
     "data": {
      "text/plain": [
       "[<matplotlib.lines.Line2D at 0x2803cabbd00>]"
      ]
     },
     "execution_count": 10,
     "metadata": {},
     "output_type": "execute_result"
    },
    {
     "data": {
      "image/png": "[encoded data removed]",
      "text/plain": [
       "<Figure size 432x288 with 1 Axes>"
      ]
     },
     "metadata": {
      "needs_background": "light"
     },
     "output_type": "display_data"
    }
   ],
   "source": [
    "import numpy as np\n",
    "plt.figure()\n",
    "xn=np.linspace(start=-5,\n",
    "              stop=10,\n",
    "              num=100)\n",
    "yn=f(xn) #Función evaluada con el vector (uno a uno)\n",
    "plt.plot(xn, yn, \"c\")\n",
    "plt.grid()\n",
    "plt.plot(3,    #x\n",
    "        f(3), #y\n",
    "        \"*r\",  #tipo de trazo (estrella roja)\n",
    "        ms=10) #mark size"
   ]
  },
  {
   "cell_type": "markdown",
   "metadata": {},
   "source": [
    "Ahora si calculamos su área = (base)*(altura) serían...\n",
    "$área=(3/2)*(3)=4.5$"
   ]
  },
  {
   "cell_type": "code",
   "execution_count": null,
   "metadata": {},
   "outputs": [],
   "source": []
  },
  {
   "cell_type": "code",
   "execution_count": null,
   "metadata": {},
   "outputs": [],
   "source": []
  }
 ],
 "metadata": {
  "kernelspec": {
   "display_name": "Python 3 (ipykernel)",
   "language": "python",
   "name": "python3"
  },
  "language_info": {
   "codemirror_mode": {
    "name": "ipython",
    "version": 3
   },
   "file_extension": ".py",
   "mimetype": "text/x-python",
   "name": "python",
   "nbconvert_exporter": "python",
   "pygments_lexer": "ipython3",
   "version": "3.9.12"
  }
 },
 "nbformat": 4,
 "nbformat_minor": 2
}
