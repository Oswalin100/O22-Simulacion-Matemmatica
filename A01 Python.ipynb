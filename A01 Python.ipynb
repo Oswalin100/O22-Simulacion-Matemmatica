{
 "cells": [
  {
   "cell_type": "markdown",
   "id": "4f00fae9",
   "metadata": {},
   "source": [
    "# Lista de 100 elementos con multiplos de 3"
   ]
  },
  {
   "cell_type": "markdown",
   "id": "aa051f0a",
   "metadata": {},
   "source": [
    "**Bucle de 100 elementos**"
   ]
  },
  {
   "cell_type": "code",
   "execution_count": 14,
   "id": "096ef34f",
   "metadata": {},
   "outputs": [
    {
     "name": "stdout",
     "output_type": "stream",
     "text": [
      "[3, 6, 9, 12, 15, 18, 21, 24, 27, 30, 33, 36, 39, 42, 45, 48, 51, 54, 57, 60, 63, 66, 69, 72, 75, 78, 81, 84, 87, 90, 93, 96, 99, 102, 105, 108, 111, 114, 117, 120, 123, 126, 129, 132, 135, 138, 141, 144, 147, 150, 153, 156, 159, 162, 165, 168, 171, 174, 177, 180, 183, 186, 189, 192, 195, 198, 201, 204, 207, 210, 213, 216, 219, 222, 225, 228, 231, 234, 237, 240, 243, 246, 249, 252, 255, 258, 261, 264, 267, 270, 273, 276, 279, 282, 285, 288, 291, 294, 297]\n"
     ]
    }
   ],
   "source": [
    "multiplos3=[valor for valor in range (1, 300) if valor%3==0]\n",
    "print (multiplos3)"
   ]
  },
  {
   "cell_type": "markdown",
   "id": "1943119c",
   "metadata": {},
   "source": [
    "## Indice de masa corporal"
   ]
  },
  {
   "cell_type": "code",
   "execution_count": 3,
   "id": "4a474cdd",
   "metadata": {},
   "outputs": [],
   "source": [
    "import pandas as pd"
   ]
  },
  {
   "cell_type": "code",
   "execution_count": 4,
   "id": "8541b36f",
   "metadata": {},
   "outputs": [],
   "source": [
    "pd.read_excel?"
   ]
  },
  {
   "cell_type": "code",
   "execution_count": 13,
   "id": "5daafe32",
   "metadata": {},
   "outputs": [],
   "source": [
    "data = pd.read_excel(\"datosPE.xlsx\")"
   ]
  },
  {
   "cell_type": "code",
   "execution_count": 14,
   "id": "ca48738b",
   "metadata": {},
   "outputs": [
    {
     "data": {
      "text/html": [
       "<div>\n",
       "<style scoped>\n",
       "    .dataframe tbody tr th:only-of-type {\n",
       "        vertical-align: middle;\n",
       "    }\n",
       "\n",
       "    .dataframe tbody tr th {\n",
       "        vertical-align: top;\n",
       "    }\n",
       "\n",
       "    .dataframe thead th {\n",
       "        text-align: right;\n",
       "    }\n",
       "</style>\n",
       "<table border=\"1\" class=\"dataframe\">\n",
       "  <thead>\n",
       "    <tr style=\"text-align: right;\">\n",
       "      <th></th>\n",
       "      <th>ID Persona</th>\n",
       "      <th>Peso</th>\n",
       "      <th>Estatura</th>\n",
       "    </tr>\n",
       "  </thead>\n",
       "  <tbody>\n",
       "    <tr>\n",
       "      <th>0</th>\n",
       "      <td>1</td>\n",
       "      <td>67</td>\n",
       "      <td>1.41</td>\n",
       "    </tr>\n",
       "    <tr>\n",
       "      <th>1</th>\n",
       "      <td>2</td>\n",
       "      <td>99</td>\n",
       "      <td>1.83</td>\n",
       "    </tr>\n",
       "    <tr>\n",
       "      <th>2</th>\n",
       "      <td>3</td>\n",
       "      <td>86</td>\n",
       "      <td>1.90</td>\n",
       "    </tr>\n",
       "    <tr>\n",
       "      <th>3</th>\n",
       "      <td>4</td>\n",
       "      <td>118</td>\n",
       "      <td>1.65</td>\n",
       "    </tr>\n",
       "    <tr>\n",
       "      <th>4</th>\n",
       "      <td>5</td>\n",
       "      <td>109</td>\n",
       "      <td>1.67</td>\n",
       "    </tr>\n",
       "    <tr>\n",
       "      <th>...</th>\n",
       "      <td>...</td>\n",
       "      <td>...</td>\n",
       "      <td>...</td>\n",
       "    </tr>\n",
       "    <tr>\n",
       "      <th>95</th>\n",
       "      <td>96</td>\n",
       "      <td>88</td>\n",
       "      <td>1.49</td>\n",
       "    </tr>\n",
       "    <tr>\n",
       "      <th>96</th>\n",
       "      <td>97</td>\n",
       "      <td>98</td>\n",
       "      <td>1.54</td>\n",
       "    </tr>\n",
       "    <tr>\n",
       "      <th>97</th>\n",
       "      <td>98</td>\n",
       "      <td>95</td>\n",
       "      <td>1.57</td>\n",
       "    </tr>\n",
       "    <tr>\n",
       "      <th>98</th>\n",
       "      <td>99</td>\n",
       "      <td>61</td>\n",
       "      <td>1.61</td>\n",
       "    </tr>\n",
       "    <tr>\n",
       "      <th>99</th>\n",
       "      <td>100</td>\n",
       "      <td>107</td>\n",
       "      <td>1.62</td>\n",
       "    </tr>\n",
       "  </tbody>\n",
       "</table>\n",
       "<p>100 rows × 3 columns</p>\n",
       "</div>"
      ],
      "text/plain": [
       "    ID Persona  Peso  Estatura\n",
       "0            1    67      1.41\n",
       "1            2    99      1.83\n",
       "2            3    86      1.90\n",
       "3            4   118      1.65\n",
       "4            5   109      1.67\n",
       "..         ...   ...       ...\n",
       "95          96    88      1.49\n",
       "96          97    98      1.54\n",
       "97          98    95      1.57\n",
       "98          99    61      1.61\n",
       "99         100   107      1.62\n",
       "\n",
       "[100 rows x 3 columns]"
      ]
     },
     "execution_count": 14,
     "metadata": {},
     "output_type": "execute_result"
    }
   ],
   "source": [
    "data"
   ]
  },
  {
   "cell_type": "code",
   "execution_count": 16,
   "id": "6dc85464",
   "metadata": {},
   "outputs": [
    {
     "data": {
      "text/plain": [
       "Index(['ID Persona', 'Peso', 'Estatura'], dtype='object')"
      ]
     },
     "execution_count": 16,
     "metadata": {},
     "output_type": "execute_result"
    }
   ],
   "source": [
    "data.columns "
   ]
  },
  {
   "cell_type": "code",
   "execution_count": 36,
   "id": "7962a953",
   "metadata": {},
   "outputs": [
    {
     "data": {
      "text/plain": [
       "array([ 67,  99,  86, 118, 109,  81,  74,  69,  51, 104,  84,  63,  79,\n",
       "        66,  91, 119,  56,  61,  66,  72,  66,  94,  55,  94, 102,  82,\n",
       "       103, 102,  75,  88, 114,  74,  76,  73,  63, 101, 101,  89,  81,\n",
       "       110, 101, 118, 102,  59,  74,  91,  58,  60,  85, 107, 111,  65,\n",
       "       110, 114,  70,  62,  99,  80,  54, 108,  56,  68, 108, 116, 117,\n",
       "        67,  65, 118,  86,  95,  70,  80,  62,  80,  92, 117,  72, 111,\n",
       "        53,  69,  52,  77, 115,  58, 106, 117,  77, 115,  71,  76,  87,\n",
       "        98, 104, 112,  56,  88,  98,  95,  61, 107], dtype=int64)"
      ]
     },
     "execution_count": 36,
     "metadata": {},
     "output_type": "execute_result"
    }
   ],
   "source": [
    "data[\"Peso\"].values"
   ]
  },
  {
   "cell_type": "code",
   "execution_count": 38,
   "id": "470184ef",
   "metadata": {},
   "outputs": [],
   "source": [
    "list3 = data[\"Peso\"].values"
   ]
  },
  {
   "cell_type": "code",
   "execution_count": 51,
   "id": "aba7abb0",
   "metadata": {},
   "outputs": [
    {
     "data": {
      "text/plain": [
       "array([1.41, 1.83, 1.9 , 1.65, 1.67, 1.66, 1.64, 1.7 , 1.67, 1.56, 1.49,\n",
       "       1.56, 1.48, 1.86, 1.7 , 1.69, 1.52, 1.94, 1.7 , 1.44, 1.88, 1.51,\n",
       "       1.69, 1.78, 1.58, 1.77, 1.6 , 1.81, 1.67, 1.81, 1.73, 1.62, 1.92,\n",
       "       1.89, 1.84, 1.52, 1.59, 1.73, 1.94, 1.48, 1.47, 1.9 , 1.63, 1.65,\n",
       "       1.49, 1.71, 1.85, 1.48, 1.85, 1.6 , 1.92, 1.61, 1.52, 1.52, 1.6 ,\n",
       "       1.8 , 1.67, 1.4 , 1.92, 1.6 , 1.63, 1.9 , 1.83, 1.46, 1.82, 1.46,\n",
       "       1.7 , 1.56, 1.45, 1.75, 1.56, 1.63, 1.43, 1.51, 1.67, 1.57, 1.66,\n",
       "       1.58, 1.47, 1.87, 1.44, 1.91, 1.56, 1.4 , 1.71, 1.93, 1.72, 1.45,\n",
       "       1.47, 1.88, 1.88, 1.53, 1.92, 1.65, 1.7 , 1.49, 1.54, 1.57, 1.61,\n",
       "       1.62])"
      ]
     },
     "execution_count": 51,
     "metadata": {},
     "output_type": "execute_result"
    }
   ],
   "source": [
    "data[\"Estatura\"].values"
   ]
  },
  {
   "cell_type": "code",
   "execution_count": null,
   "id": "0f6df129",
   "metadata": {},
   "outputs": [],
   "source": [
    "list1 = data[\"Estatura\"].values"
   ]
  },
  {
   "cell_type": "code",
   "execution_count": 52,
   "id": "ff9e735f",
   "metadata": {},
   "outputs": [
    {
     "data": {
      "text/plain": [
       "array([1.41, 1.83, 1.9 , 1.65, 1.67, 1.66, 1.64, 1.7 , 1.67, 1.56, 1.49,\n",
       "       1.56, 1.48, 1.86, 1.7 , 1.69, 1.52, 1.94, 1.7 , 1.44, 1.88, 1.51,\n",
       "       1.69, 1.78, 1.58, 1.77, 1.6 , 1.81, 1.67, 1.81, 1.73, 1.62, 1.92,\n",
       "       1.89, 1.84, 1.52, 1.59, 1.73, 1.94, 1.48, 1.47, 1.9 , 1.63, 1.65,\n",
       "       1.49, 1.71, 1.85, 1.48, 1.85, 1.6 , 1.92, 1.61, 1.52, 1.52, 1.6 ,\n",
       "       1.8 , 1.67, 1.4 , 1.92, 1.6 , 1.63, 1.9 , 1.83, 1.46, 1.82, 1.46,\n",
       "       1.7 , 1.56, 1.45, 1.75, 1.56, 1.63, 1.43, 1.51, 1.67, 1.57, 1.66,\n",
       "       1.58, 1.47, 1.87, 1.44, 1.91, 1.56, 1.4 , 1.71, 1.93, 1.72, 1.45,\n",
       "       1.47, 1.88, 1.88, 1.53, 1.92, 1.65, 1.7 , 1.49, 1.54, 1.57, 1.61,\n",
       "       1.62])"
      ]
     },
     "execution_count": 52,
     "metadata": {},
     "output_type": "execute_result"
    }
   ],
   "source": [
    "list1"
   ]
  },
  {
   "cell_type": "code",
   "execution_count": 53,
   "id": "abee13d4",
   "metadata": {},
   "outputs": [
    {
     "data": {
      "text/plain": [
       "array([1.9881, 3.3489, 3.61  , 2.7225, 2.7889, 2.7556, 2.6896, 2.89  ,\n",
       "       2.7889, 2.4336, 2.2201, 2.4336, 2.1904, 3.4596, 2.89  , 2.8561,\n",
       "       2.3104, 3.7636, 2.89  , 2.0736, 3.5344, 2.2801, 2.8561, 3.1684,\n",
       "       2.4964, 3.1329, 2.56  , 3.2761, 2.7889, 3.2761, 2.9929, 2.6244,\n",
       "       3.6864, 3.5721, 3.3856, 2.3104, 2.5281, 2.9929, 3.7636, 2.1904,\n",
       "       2.1609, 3.61  , 2.6569, 2.7225, 2.2201, 2.9241, 3.4225, 2.1904,\n",
       "       3.4225, 2.56  , 3.6864, 2.5921, 2.3104, 2.3104, 2.56  , 3.24  ,\n",
       "       2.7889, 1.96  , 3.6864, 2.56  , 2.6569, 3.61  , 3.3489, 2.1316,\n",
       "       3.3124, 2.1316, 2.89  , 2.4336, 2.1025, 3.0625, 2.4336, 2.6569,\n",
       "       2.0449, 2.2801, 2.7889, 2.4649, 2.7556, 2.4964, 2.1609, 3.4969,\n",
       "       2.0736, 3.6481, 2.4336, 1.96  , 2.9241, 3.7249, 2.9584, 2.1025,\n",
       "       2.1609, 3.5344, 3.5344, 2.3409, 3.6864, 2.7225, 2.89  , 2.2201,\n",
       "       2.3716, 2.4649, 2.5921, 2.6244])"
      ]
     },
     "execution_count": 53,
     "metadata": {},
     "output_type": "execute_result"
    }
   ],
   "source": [
    "list1*list1"
   ]
  },
  {
   "cell_type": "code",
   "execution_count": 59,
   "id": "2b89433c",
   "metadata": {},
   "outputs": [
    {
     "data": {
      "text/plain": [
       "array([33.70051808, 29.56194571, 23.82271468, 43.34251607, 39.08350963,\n",
       "       29.39468718, 27.51338489, 23.87543253, 18.28677973, 42.73504274,\n",
       "       37.83613351, 25.88757396, 36.06647188, 19.07734998, 31.48788927,\n",
       "       41.6652078 , 24.23822715, 16.20788607, 22.83737024, 34.72222222,\n",
       "       18.67360797, 41.22626201, 19.25702882, 29.66797122, 40.85883672,\n",
       "       26.17383255, 40.234375  , 31.13458075, 26.89232314, 26.86120692,\n",
       "       38.09014668, 28.1969212 , 20.61631944, 20.436158  , 18.60822306,\n",
       "       43.71537396, 39.95095131, 29.73704434, 21.52194707, 50.21913806,\n",
       "       46.73978435, 32.68698061, 38.39060559, 21.67125803, 33.3318319 ,\n",
       "       31.12068671, 16.94667641, 27.39225712, 24.83564646, 41.796875  ,\n",
       "       30.11067708, 25.07619305, 47.61080332, 49.34210526, 27.34375   ,\n",
       "       19.13580247, 35.49786654, 40.81632653, 14.6484375 , 42.1875    ,\n",
       "       21.07719523, 18.8365651 , 32.24939532, 54.41921561, 35.32182104,\n",
       "       31.43178833, 22.49134948, 48.48783695, 40.90368609, 31.02040816,\n",
       "       28.76397107, 30.1102789 , 30.31933102, 35.08618043, 32.98791638,\n",
       "       47.46642866, 26.12861083, 44.4640282 , 24.52681753, 19.73176242,\n",
       "       25.07716049, 21.10687755, 47.25509533, 29.59183673, 36.25047023,\n",
       "       31.4102392 , 26.02758248, 54.69678954, 32.85668009, 21.50294251,\n",
       "       24.6152105 , 41.86424025, 28.21180556, 41.13865932, 19.37716263,\n",
       "       39.63785415, 41.32231405, 38.54111729, 23.53304271, 40.7712239 ])"
      ]
     },
     "execution_count": 59,
     "metadata": {},
     "output_type": "execute_result"
    }
   ],
   "source": [
    "list3/(list1*list1)"
   ]
  },
  {
   "cell_type": "markdown",
   "id": "98c0cda6",
   "metadata": {},
   "source": [
    "## Utilidades ingreso - gasto"
   ]
  },
  {
   "cell_type": "code",
   "execution_count": 70,
   "id": "f9dbe3bf",
   "metadata": {},
   "outputs": [],
   "source": [
    "import pandas as pd"
   ]
  },
  {
   "cell_type": "code",
   "execution_count": 71,
   "id": "72db266a",
   "metadata": {},
   "outputs": [],
   "source": [
    "pd.read_excel?"
   ]
  },
  {
   "cell_type": "code",
   "execution_count": 72,
   "id": "000f4f61",
   "metadata": {},
   "outputs": [],
   "source": [
    "datos = pd.read_excel(\"datosCT.xlsx\")"
   ]
  },
  {
   "cell_type": "code",
   "execution_count": 73,
   "id": "d3a62109",
   "metadata": {},
   "outputs": [
    {
     "data": {
      "text/html": [
       "<div>\n",
       "<style scoped>\n",
       "    .dataframe tbody tr th:only-of-type {\n",
       "        vertical-align: middle;\n",
       "    }\n",
       "\n",
       "    .dataframe tbody tr th {\n",
       "        vertical-align: top;\n",
       "    }\n",
       "\n",
       "    .dataframe thead th {\n",
       "        text-align: right;\n",
       "    }\n",
       "</style>\n",
       "<table border=\"1\" class=\"dataframe\">\n",
       "  <thead>\n",
       "    <tr style=\"text-align: right;\">\n",
       "      <th></th>\n",
       "      <th>Unnamed: 0</th>\n",
       "      <th>Ingreso</th>\n",
       "      <th>Gasto</th>\n",
       "    </tr>\n",
       "  </thead>\n",
       "  <tbody>\n",
       "    <tr>\n",
       "      <th>0</th>\n",
       "      <td>Enero</td>\n",
       "      <td>1340</td>\n",
       "      <td>1880</td>\n",
       "    </tr>\n",
       "    <tr>\n",
       "      <th>1</th>\n",
       "      <td>Febrero</td>\n",
       "      <td>2590</td>\n",
       "      <td>3130</td>\n",
       "    </tr>\n",
       "    <tr>\n",
       "      <th>2</th>\n",
       "      <td>Marzo</td>\n",
       "      <td>3570</td>\n",
       "      <td>2140</td>\n",
       "    </tr>\n",
       "    <tr>\n",
       "      <th>3</th>\n",
       "      <td>Abril</td>\n",
       "      <td>4450</td>\n",
       "      <td>3370</td>\n",
       "    </tr>\n",
       "    <tr>\n",
       "      <th>4</th>\n",
       "      <td>Mayo</td>\n",
       "      <td>1330</td>\n",
       "      <td>2990</td>\n",
       "    </tr>\n",
       "    <tr>\n",
       "      <th>5</th>\n",
       "      <td>Junio</td>\n",
       "      <td>1610</td>\n",
       "      <td>1970</td>\n",
       "    </tr>\n",
       "    <tr>\n",
       "      <th>6</th>\n",
       "      <td>Julio</td>\n",
       "      <td>1500</td>\n",
       "      <td>2230</td>\n",
       "    </tr>\n",
       "    <tr>\n",
       "      <th>7</th>\n",
       "      <td>Agosto</td>\n",
       "      <td>2270</td>\n",
       "      <td>1240</td>\n",
       "    </tr>\n",
       "    <tr>\n",
       "      <th>8</th>\n",
       "      <td>Septiembre</td>\n",
       "      <td>1910</td>\n",
       "      <td>1470</td>\n",
       "    </tr>\n",
       "    <tr>\n",
       "      <th>9</th>\n",
       "      <td>Octubre</td>\n",
       "      <td>2120</td>\n",
       "      <td>2280</td>\n",
       "    </tr>\n",
       "    <tr>\n",
       "      <th>10</th>\n",
       "      <td>Noviembre</td>\n",
       "      <td>3950</td>\n",
       "      <td>1870</td>\n",
       "    </tr>\n",
       "    <tr>\n",
       "      <th>11</th>\n",
       "      <td>Diciembre</td>\n",
       "      <td>1380</td>\n",
       "      <td>3140</td>\n",
       "    </tr>\n",
       "  </tbody>\n",
       "</table>\n",
       "</div>"
      ],
      "text/plain": [
       "    Unnamed: 0  Ingreso  Gasto\n",
       "0        Enero     1340   1880\n",
       "1      Febrero     2590   3130\n",
       "2        Marzo     3570   2140\n",
       "3        Abril     4450   3370\n",
       "4         Mayo     1330   2990\n",
       "5        Junio     1610   1970\n",
       "6        Julio     1500   2230\n",
       "7       Agosto     2270   1240\n",
       "8   Septiembre     1910   1470\n",
       "9      Octubre     2120   2280\n",
       "10   Noviembre     3950   1870\n",
       "11   Diciembre     1380   3140"
      ]
     },
     "execution_count": 73,
     "metadata": {},
     "output_type": "execute_result"
    }
   ],
   "source": [
    "datos"
   ]
  },
  {
   "cell_type": "code",
   "execution_count": 83,
   "id": "ed893342",
   "metadata": {},
   "outputs": [],
   "source": [
    "listutilidades = datos[\"Ingreso\"].values - datos[\"Gasto\"].values"
   ]
  },
  {
   "cell_type": "code",
   "execution_count": 112,
   "id": "6b067164",
   "metadata": {},
   "outputs": [
    {
     "data": {
      "text/plain": [
       "array([ -540,  -540,  1430,  1080, -1660,  -360,  -730,  1030,   440,\n",
       "        -160,  2080, -1760], dtype=int64)"
      ]
     },
     "execution_count": 112,
     "metadata": {},
     "output_type": "execute_result"
    }
   ],
   "source": [
    "listutilidades"
   ]
  },
  {
   "cell_type": "markdown",
   "id": "b744ef5b",
   "metadata": {},
   "source": [
    "## Promedio de gastos en los que la utilidad fue negativa "
   ]
  },
  {
   "cell_type": "code",
   "execution_count": 135,
   "id": "2f9976d3",
   "metadata": {},
   "outputs": [
    {
     "name": "stdout",
     "output_type": "stream",
     "text": [
      "-540\n",
      "-540\n",
      "-1660\n",
      "-360\n",
      "-730\n",
      "-160\n",
      "-1760\n"
     ]
    }
   ],
   "source": [
    "for num in listutilidades:\n",
    "    if num < 0:\n",
    "        print(num)"
   ]
  },
  {
   "cell_type": "code",
   "execution_count": 136,
   "id": "4772f091",
   "metadata": {},
   "outputs": [
    {
     "data": {
      "text/plain": [
       "-1760.0"
      ]
     },
     "execution_count": 136,
     "metadata": {},
     "output_type": "execute_result"
    }
   ],
   "source": [
    "num.mean()"
   ]
  },
  {
   "cell_type": "code",
   "execution_count": null,
   "id": "c295d3a8",
   "metadata": {},
   "outputs": [],
   "source": []
  },
  {
   "cell_type": "markdown",
   "id": "e4dfd07c",
   "metadata": {},
   "source": [
    "## Ingresos totales del año"
   ]
  },
  {
   "cell_type": "code",
   "execution_count": 89,
   "id": "37840c2f",
   "metadata": {},
   "outputs": [
    {
     "data": {
      "text/plain": [
       "28020"
      ]
     },
     "execution_count": 89,
     "metadata": {},
     "output_type": "execute_result"
    }
   ],
   "source": [
    "datos[\"Ingreso\"].sum()"
   ]
  },
  {
   "cell_type": "code",
   "execution_count": null,
   "id": "42382dfc",
   "metadata": {},
   "outputs": [],
   "source": []
  }
 ],
 "metadata": {
  "kernelspec": {
   "display_name": "Python 3 (ipykernel)",
   "language": "python",
   "name": "python3"
  },
  "language_info": {
   "codemirror_mode": {
    "name": "ipython",
    "version": 3
   },
   "file_extension": ".py",
   "mimetype": "text/x-python",
   "name": "python",
   "nbconvert_exporter": "python",
   "pygments_lexer": "ipython3",
   "version": "3.9.12"
  }
 },
 "nbformat": 4,
 "nbformat_minor": 5
}
